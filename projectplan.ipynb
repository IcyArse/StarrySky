{
 "cells": [
  {
   "cell_type": "markdown",
   "metadata": {},
   "source": [
    "Path way:\n",
    "\n",
    "Import necessary libraries:\n",
    "\n",
    "1) astropy: for working with celestial coordinates and objects.\n",
    "2) matplotlib.pyplot (or other plotting libraries): for creating visualizations.\n",
    "\n",
    "\n",
    "Define your observing location and time:\n",
    "\n",
    "1) Use astropy.time to specify the date and time of observation.\n",
    "2) Consider including your location using astropy.coordinates for more accurate results (depending on the desired level of detail).\n",
    "\n",
    "\n",
    "Retrieve celestial object data:\n",
    "\n",
    "1) Use astropy.coordinates functionalities like SkyCoord to define objects of interest (stars, planets, etc.).\n",
    "2) Consider using tools like astroquery (part of the Astropy ecosystem) to fetch data from online catalogs.\n",
    "\n",
    "\n",
    "Project coordinates onto a plot:\n",
    "\n",
    "1) Use functionalities from astropy.coordinates to transform celestial coordinates (e.g., RA, Dec) into a plottable format (e.g., x, y).\n",
    "2) Libraries like matplotlib offer functionalities for plotting points, constellations, or even background images."
   ]
  },
  {
   "cell_type": "markdown",
   "metadata": {},
   "source": [
    "Important links:\n",
    "\n",
    "        Astropy documentation: https://docs.astropy.org/en/stable/search.html?q=skycoord\n",
    "        Astropy coordinates library tutorial: https://learn.astropy.org/tutorials/1-Coordinates-Intro.html"
   ]
  },
  {
   "cell_type": "markdown",
   "metadata": {},
   "source": []
  },
  {
   "cell_type": "markdown",
   "metadata": {},
   "source": [
    "Simple method of plotting a single star using skycoord and matplot:"
   ]
  },
  {
   "cell_type": "code",
   "execution_count": null,
   "metadata": {},
   "outputs": [],
   "source": [
    "import matplotlib.pyplot as plt\n",
    "from astropy.coordinates import SkyCoord\n",
    "from astropy import units as u\n",
    "\n",
    "# Create a SkyCoord object for the star Betelgeuse\n",
    "star = SkyCoord(ra=88.7847 * u.degree, dec=7.4158 * u.degree)\n",
    "\n",
    "# Plot the star\n",
    "plt.plot(star.ra.value, star.dec.value, 'o', color='red')\n",
    "\n",
    "# Set the plot limits\n",
    "#plt.xlim(-10, 10)\n",
    "#plt.ylim(-10, 10)\n",
    "\n",
    "# Label the axes\n",
    "plt.xlabel('Right Ascension (degrees)')\n",
    "plt.ylabel('Declination (degrees)')\n",
    "\n",
    "# Show the plot\n",
    "plt.show()"
   ]
  }
 ],
 "metadata": {
  "kernelspec": {
   "display_name": "Python 3",
   "language": "python",
   "name": "python3"
  },
  "language_info": {
   "codemirror_mode": {
    "name": "ipython",
    "version": 3
   },
   "file_extension": ".py",
   "mimetype": "text/x-python",
   "name": "python",
   "nbconvert_exporter": "python",
   "pygments_lexer": "ipython3",
   "version": "3.12.3"
  }
 },
 "nbformat": 4,
 "nbformat_minor": 2
}
